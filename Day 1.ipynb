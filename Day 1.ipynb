{
 "cells": [
  {
   "cell_type": "code",
   "execution_count": 5,
   "id": "88d5cca5",
   "metadata": {},
   "outputs": [
    {
     "data": {
      "text/plain": [
       "int"
      ]
     },
     "execution_count": 5,
     "metadata": {},
     "output_type": "execute_result"
    }
   ],
   "source": [
    "#data types\n",
    "#int\n",
    "type(5)"
   ]
  },
  {
   "cell_type": "code",
   "execution_count": 3,
   "id": "bd5c7525",
   "metadata": {},
   "outputs": [
    {
     "name": "stdout",
     "output_type": "stream",
     "text": [
      "hello world\n"
     ]
    }
   ],
   "source": [
    "print(\"hello world\")"
   ]
  },
  {
   "cell_type": "code",
   "execution_count": 7,
   "id": "71acde82",
   "metadata": {},
   "outputs": [
    {
     "data": {
      "text/plain": [
       "float"
      ]
     },
     "execution_count": 7,
     "metadata": {},
     "output_type": "execute_result"
    }
   ],
   "source": [
    "type(9.0)\n",
    "#float cause it's decimal"
   ]
  },
  {
   "cell_type": "code",
   "execution_count": 8,
   "id": "7bd35a02",
   "metadata": {},
   "outputs": [
    {
     "data": {
      "text/plain": [
       "str"
      ]
     },
     "execution_count": 8,
     "metadata": {},
     "output_type": "execute_result"
    }
   ],
   "source": [
    "type('himanshu')\n",
    "#text string"
   ]
  },
  {
   "cell_type": "code",
   "execution_count": 6,
   "id": "e300a313",
   "metadata": {},
   "outputs": [
    {
     "data": {
      "text/plain": [
       "str"
      ]
     },
     "execution_count": 6,
     "metadata": {},
     "output_type": "execute_result"
    }
   ],
   "source": [
    "type('True')\n",
    "#sill text cause on quote"
   ]
  },
  {
   "cell_type": "code",
   "execution_count": 11,
   "id": "0f044503",
   "metadata": {},
   "outputs": [
    {
     "data": {
      "text/plain": [
       "bool"
      ]
     },
     "execution_count": 11,
     "metadata": {},
     "output_type": "execute_result"
    }
   ],
   "source": [
    "type(True)\n",
    "#case sensitive you can't use true instead of true"
   ]
  },
  {
   "cell_type": "code",
   "execution_count": 12,
   "id": "1a5e7e3c",
   "metadata": {},
   "outputs": [
    {
     "data": {
      "text/plain": [
       "complex"
      ]
     },
     "execution_count": 12,
     "metadata": {},
     "output_type": "execute_result"
    }
   ],
   "source": [
    "type(5+2j)\n",
    "#we have to use j here not i for complex values"
   ]
  },
  {
   "cell_type": "code",
   "execution_count": 14,
   "id": "9d369db6",
   "metadata": {},
   "outputs": [
    {
     "name": "stdout",
     "output_type": "stream",
     "text": [
      "(10+13j)\n"
     ]
    }
   ],
   "source": [
    "print((5+6j)+(5+7j))\n",
    "#you can use the value drectory here that why's companies don't give a fuck about it"
   ]
  },
  {
   "cell_type": "code",
   "execution_count": 16,
   "id": "63b32fd4",
   "metadata": {},
   "outputs": [
    {
     "name": "stdout",
     "output_type": "stream",
     "text": [
      "6.111111111111111\n"
     ]
    }
   ],
   "source": [
    "print(55/9)\n",
    "#you can get decimal values here"
   ]
  },
  {
   "cell_type": "code",
   "execution_count": 15,
   "id": "84f34c9a",
   "metadata": {},
   "outputs": [
    {
     "name": "stdout",
     "output_type": "stream",
     "text": [
      "6\n"
     ]
    }
   ],
   "source": [
    "print(55//9)\n",
    "#you only get the numeric part only"
   ]
  },
  {
   "cell_type": "code",
   "execution_count": 17,
   "id": "beb68820",
   "metadata": {},
   "outputs": [
    {
     "name": "stdout",
     "output_type": "stream",
     "text": [
      "2\n"
     ]
    }
   ],
   "source": [
    "85print(37%7)\n",
    "#it will show you the remainder only. 37-7*5=2"
   ]
  },
  {
   "cell_type": "code",
   "execution_count": 45,
   "id": "3ad82f8a",
   "metadata": {},
   "outputs": [
    {
     "data": {
      "text/plain": [
       "80"
      ]
     },
     "execution_count": 45,
     "metadata": {},
     "output_type": "execute_result"
    }
   ],
   "source": [
    "x=80\n",
    "x\n",
    "#direct output"
   ]
  },
  {
   "cell_type": "code",
   "execution_count": 21,
   "id": "b287f9ed",
   "metadata": {},
   "outputs": [
    {
     "data": {
      "text/plain": [
       "int"
      ]
     },
     "execution_count": 21,
     "metadata": {},
     "output_type": "execute_result"
    }
   ],
   "source": [
    "type(x)\n",
    "#output the type it's int"
   ]
  },
  {
   "cell_type": "code",
   "execution_count": 48,
   "id": "0ab0b606",
   "metadata": {},
   "outputs": [
    {
     "data": {
      "text/plain": [
       "str"
      ]
     },
     "execution_count": 48,
     "metadata": {},
     "output_type": "execute_result"
    }
   ],
   "source": [
    "x='abhi'\n",
    "type(x)"
   ]
  },
  {
   "cell_type": "code",
   "execution_count": 26,
   "id": "99325520",
   "metadata": {},
   "outputs": [
    {
     "data": {
      "text/plain": [
       "str"
      ]
     },
     "execution_count": 26,
     "metadata": {},
     "output_type": "execute_result"
    }
   ],
   "source": [
    "y='miri'\n",
    "type(y)"
   ]
  },
  {
   "cell_type": "code",
   "execution_count": 53,
   "id": "b8b73174",
   "metadata": {},
   "outputs": [
    {
     "data": {
      "text/plain": [
       "(676, 'miri')"
      ]
     },
     "execution_count": 53,
     "metadata": {},
     "output_type": "execute_result"
    }
   ],
   "source": [
    "x,y"
   ]
  },
  {
   "cell_type": "code",
   "execution_count": 51,
   "id": "fd13b9fb",
   "metadata": {},
   "outputs": [
    {
     "name": "stdout",
     "output_type": "stream",
     "text": [
      "676\n",
      "676\n",
      "676.0\n",
      "True\n",
      "676\n"
     ]
    }
   ],
   "source": [
    "x=676\n",
    "print(int(x))\n",
    "print(x)\n",
    "print(float(x))\n",
    "print(bool(x))\n",
    "print(str(x))"
   ]
  },
  {
   "cell_type": "code",
   "execution_count": 43,
   "id": "f414f852",
   "metadata": {},
   "outputs": [
    {
     "name": "stdout",
     "output_type": "stream",
     "text": [
      "False\n"
     ]
    }
   ],
   "source": [
    "print(bool(0))"
   ]
  },
  {
   "cell_type": "code",
   "execution_count": 9,
   "id": "2471353c",
   "metadata": {},
   "outputs": [
    {
     "ename": "SyntaxError",
     "evalue": "invalid syntax (1234316778.py, line 1)",
     "output_type": "error",
     "traceback": [
      "\u001b[1;36m  File \u001b[1;32m\"C:\\Users\\Abhi\\AppData\\Local\\Temp\\ipykernel_15124\\1234316778.py\"\u001b[1;36m, line \u001b[1;32m1\u001b[0m\n\u001b[1;33m    a = (int(input()):\u001b[0m\n\u001b[1;37m                     ^\u001b[0m\n\u001b[1;31mSyntaxError\u001b[0m\u001b[1;31m:\u001b[0m invalid syntax\n"
     ]
    }
   ],
   "source": [
    "a = (int(input()):\n",
    "     print(a)"
   ]
  },
  {
   "cell_type": "markdown",
   "id": "f1546e1b",
   "metadata": {},
   "source": []
  }
 ],
 "metadata": {
  "kernelspec": {
   "display_name": "Python 3 (ipykernel)",
   "language": "python",
   "name": "python3"
  },
  "language_info": {
   "codemirror_mode": {
    "name": "ipython",
    "version": 3
   },
   "file_extension": ".py",
   "mimetype": "text/x-python",
   "name": "python",
   "nbconvert_exporter": "python",
   "pygments_lexer": "ipython3",
   "version": "3.9.13"
  }
 },
 "nbformat": 4,
 "nbformat_minor": 5
}
